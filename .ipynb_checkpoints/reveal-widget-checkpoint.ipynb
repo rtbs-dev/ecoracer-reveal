{
 "cells": [
  {
   "cell_type": "code",
   "execution_count": 1,
   "metadata": {
    "collapsed": false,
    "nbpresent": {
     "id": "e42b743c-f4f9-47ef-82f8-4232551be35d"
    },
    "slideshow": {
     "slide_type": "skip"
    }
   },
   "outputs": [],
   "source": [
    "import matplotlib.pyplot as plt\n",
    "import numpy as np\n",
    "import seaborn as sns\n",
    "import pandas as pd\n",
    "\n",
    "from ipywidgets import interact, IntSlider\n",
    "import copy\n",
    "\n",
    "# import sys\n",
    "# sys.path.append(\"BayesianOptimization/\")\n",
    "from bayes_opt import BayesianOptimization\n",
    "from matplotlib import gridspec\n",
    "sns.set_context('talk')\n",
    "sns.set_style('whitegrid')\n",
    "%matplotlib inline\n",
    "\n",
    "def posterior(bo, xmin=-2, xmax=10):\n",
    "    xmin, xmax = -2, 10\n",
    "    bo.gp.fit(bo.X, bo.Y)\n",
    "    mu, sigma2 = bo.gp.predict(np.linspace(xmin, xmax, 1000).reshape(-1, 1), eval_MSE=True)\n",
    "    return mu, np.sqrt(sigma2)\n",
    "\n",
    "def plot_gp(bo, x, y):\n",
    "    \n",
    "    fig = plt.figure(figsize=(16,8))\n",
    "    fig.suptitle('Gaussian Process and Utility Function After {} Steps'.format(len(bo.X)), fontdict={'size':30})\n",
    "    \n",
    "    gs = gridspec.GridSpec(2, 1, height_ratios=[3, 1]) \n",
    "    axis = plt.subplot(gs[0])\n",
    "    acq = plt.subplot(gs[1])\n",
    "    \n",
    "    mu, sigma = posterior(bo)\n",
    "    axis.plot(x, y, linewidth=3, label='Target')\n",
    "    axis.plot(bo.X.flatten(), bo.Y, 'D', markersize=8, label=u'Observations', color='r', clip_on=False)\n",
    "    axis.plot(x, mu, '--', color='k', label='Prediction')\n",
    "\n",
    "    axis.fill(np.concatenate([x, x[::-1]]), \n",
    "              np.concatenate([mu - 1.9600 * sigma, (mu + 1.9600 * sigma)[::-1]]),\n",
    "        alpha=.6, fc='c', ec='None', label='95% confidence interval')\n",
    "    \n",
    "    axis.set_xlim((-2, 10))\n",
    "    axis.set_ylim((0., 1.5))\n",
    "    axis.set_ylabel('f(x)', fontdict={'size':20})\n",
    "    axis.set_xlabel('x', fontdict={'size':20})\n",
    "    \n",
    "    utility = bo.util.utility(x.reshape((-1, 1)), bo.gp, 0)\n",
    "    acq.plot(x, utility, label='Utility Function', color='purple')\n",
    "    acq.plot(x[np.argmax(utility)], np.max(utility), 'd', markersize=15, \n",
    "             label=u'Next Best Guess', markerfacecolor='gold', \n",
    "             markeredgecolor='k', markeredgewidth=1, clip_on=False)\n",
    "    acq.set_xlim((-2, 10))\n",
    "    acq.set_ylim((0, np.max(utility) + 0.5))\n",
    "    acq.set_ylabel('Utility', fontdict={'size':20})\n",
    "    acq.set_xlabel('x', fontdict={'size':20})\n",
    "    \n",
    "    axis.legend(loc=2, bbox_to_anchor=(1.01, 1), borderaxespad=0.)\n",
    "    acq.legend(loc=2, bbox_to_anchor=(1.01, 1), borderaxespad=0.)"
   ]
  },
  {
   "cell_type": "code",
   "execution_count": 5,
   "metadata": {
    "collapsed": false,
    "nbpresent": {
     "id": "9e2ebe13-af1a-47fb-a1a1-8c53c4950cf5"
    },
    "scrolled": true,
    "slideshow": {
     "slide_type": "skip"
    }
   },
   "outputs": [
    {
     "name": "stdout",
     "output_type": "stream",
     "text": [
      "\u001b[31mInitialization\u001b[0m\n",
      "\u001b[94m-----------------------------------------\u001b[0m\n",
      " Step |   Time |      Value |         x | \n",
      "    1 | 00m00s | \u001b[35m   0.36439\u001b[0m | \u001b[32m   9.2279\u001b[0m | \n",
      "    2 | 00m00s | \u001b[35m   1.02513\u001b[0m | \u001b[32m   6.1015\u001b[0m | \n",
      "    3 | 00m00s |    0.92399 |    0.6353 | \n",
      "\u001b[31mBayesian Optimization\u001b[0m\n",
      "\u001b[94m-----------------------------------------\u001b[0m\n",
      " Step |   Time |      Value |         x | \n",
      "\u001b[31mBayesian Optimization\u001b[0m\n",
      "\u001b[94m-----------------------------------------\u001b[0m\n",
      " Step |   Time |      Value |         x | \n",
      "    4 | 00m00s |    0.73329 |    3.9083 | \n",
      "\u001b[31mBayesian Optimization\u001b[0m\n",
      "\u001b[94m-----------------------------------------\u001b[0m\n",
      " Step |   Time |      Value |         x | \n",
      "    5 | 00m00s |    0.20166 |   -2.0000 | \n",
      "\u001b[31mBayesian Optimization\u001b[0m\n",
      "\u001b[94m-----------------------------------------\u001b[0m\n",
      " Step |   Time |      Value |         x | \n",
      "    6 | 00m00s |    0.93977 |    6.9173 | \n",
      "\u001b[31mBayesian Optimization\u001b[0m\n",
      "\u001b[94m-----------------------------------------\u001b[0m\n",
      " Step |   Time |      Value |         x | \n",
      "    7 | 00m00s | \u001b[35m   1.34801\u001b[0m | \u001b[32m   1.7454\u001b[0m | \n",
      "\u001b[31mBayesian Optimization\u001b[0m\n",
      "\u001b[94m-----------------------------------------\u001b[0m\n",
      " Step |   Time |      Value |         x | \n",
      "    8 | 00m00s | \u001b[35m   1.36785\u001b[0m | \u001b[32m   2.2005\u001b[0m | \n",
      "\u001b[31mBayesian Optimization\u001b[0m\n",
      "\u001b[94m-----------------------------------------\u001b[0m\n",
      " Step |   Time |      Value |         x | \n",
      "    9 | 00m00s |    1.14589 |    2.5935 | \n",
      "\u001b[31mBayesian Optimization\u001b[0m\n",
      "\u001b[94m-----------------------------------------\u001b[0m\n",
      " Step |   Time |      Value |         x | \n",
      "   10 | 00m00s | \u001b[35m   1.40189\u001b[0m | \u001b[32m   1.9980\u001b[0m | \n",
      "\u001b[31mBayesian Optimization\u001b[0m\n",
      "\u001b[94m-----------------------------------------\u001b[0m\n",
      " Step |   Time |      Value |         x | \n",
      "   11 | 00m00s |    0.96564 |    5.1428 | \n",
      "\u001b[31mBayesian Optimization\u001b[0m\n",
      "\u001b[94m-----------------------------------------\u001b[0m\n",
      " Step |   Time |      Value |         x | \n",
      "   12 | 00m00s |    0.70216 |   -0.6708 | \n",
      "\u001b[31mBayesian Optimization\u001b[0m\n",
      "\u001b[94m-----------------------------------------\u001b[0m\n",
      " Step |   Time |      Value |         x | \n",
      "   13 | 00m00s |    0.71503 |    7.8915 | \n",
      "\u001b[31mBayesian Optimization\u001b[0m\n",
      "\u001b[94m-----------------------------------------\u001b[0m\n",
      " Step |   Time |      Value |         x | \n",
      "   14 | 00m00s |    0.23605 |    9.8572 | \n",
      "\u001b[31mBayesian Optimization\u001b[0m\n",
      "\u001b[94m-----------------------------------------\u001b[0m\n",
      " Step |   Time |      Value |         x | \n",
      "   15 | 00m00s |    1.11540 |    1.3348 | \n",
      "\u001b[31mBayesian Optimization\u001b[0m\n",
      "\u001b[94m-----------------------------------------\u001b[0m\n",
      " Step |   Time |      Value |         x | \n",
      "   16 | 00m00s |    1.01595 |    5.6138 | \n",
      "\u001b[31mBayesian Optimization\u001b[0m\n",
      "\u001b[94m-----------------------------------------\u001b[0m\n",
      " Step |   Time |      Value |         x | \n",
      "   17 | 00m00s |    1.04894 |    0.0571 | \n",
      "\u001b[31mBayesian Optimization\u001b[0m\n",
      "\u001b[94m-----------------------------------------\u001b[0m\n",
      " Step |   Time |      Value |         x | \n",
      "   18 | 00m00s |    0.79473 |    3.1677 | \n"
     ]
    }
   ],
   "source": [
    "\n",
    "# Our Objective Function\n",
    "def target(x):\n",
    "    return np.exp(-(x - 2)**2) + np.exp(-(x - 6)**2/10) + 1/ (x**2 + 1)\n",
    "\n",
    "x = np.linspace(-2, 10, 1000)\n",
    "y = target(x)\n",
    "bo = BayesianOptimization(target, {'x': (-2, 10)})\n",
    "\n",
    "# Gaussian Process Parameters\n",
    "gp_params = {\"corr\": \"cubic\", \"theta0\": 0.1, \"thetaL\": None, \"thetaU\": None, \"random_start\": 1}\n",
    "# Give the Model 3 random points to initialize\n",
    "bo.maximize(init_points=3, n_iter=0, acq='ei', xi=0.05, **gp_params) \n",
    "\n",
    "n_samp = 15\n",
    "bo_list = [copy.deepcopy(bo)]\n",
    "for iter in range(n_samp):\n",
    "    bo.maximize(init_points=0, n_iter=1, xi=.05)  # random init, pts to add, parameter\n",
    "    bo_list+=[copy.deepcopy(bo)]\n",
    "\n",
    "def plot_specific(n):\n",
    "    assert n< len(bo_list)\n",
    "    plot_gp(bo_list[n], x, y)\n",
    "    \n"
   ]
  },
  {
   "cell_type": "code",
   "execution_count": 29,
   "metadata": {
    "collapsed": false,
    "slideshow": {
     "slide_type": "skip"
    }
   },
   "outputs": [
    {
     "data": {
      "text/plain": [
       "{'start_slideshow_at': 'selected'}"
      ]
     },
     "execution_count": 29,
     "metadata": {},
     "output_type": "execute_result"
    }
   ],
   "source": [
    "from traitlets.config.manager import BaseJSONConfigManager\n",
    "path = \"E:/ProgramFiles_w/Engineering/Anaconda/etc/jupyter/nbconfig\"\n",
    "cm = BaseJSONConfigManager(config_dir=path)\n",
    "# # cm.update('livereveal', {\n",
    "# #         'width': 960,\n",
    "# #         'height': 700\n",
    "# # })\n",
    "#               'theme': 'sky',\n",
    "#               'transition': 'zoom',\n",
    "cm.update('livereveal', {'start_slideshow_at': 'selected'})\n",
    "\n",
    "# from IPython.core.display import display, HTML\n",
    "# display(HTML(\"<style>.container { width:80% !important; }</style>\"))"
   ]
  },
  {
   "cell_type": "markdown",
   "metadata": {
    "nbpresent": {
     "id": "79c5cec2-d199-43f2-a7a2-e3af95cf6e57"
    },
    "slideshow": {
     "slide_type": "skip"
    }
   },
   "source": [
    "# Thurston Sexton\n",
    "Sandia NL Interview\n",
    "\n",
    "9/27/2016"
   ]
  },
  {
   "cell_type": "markdown",
   "metadata": {
    "nbpresent": {
     "id": "abce1d42-f632-4d15-8f3c-babbe00e5fc5"
    },
    "slideshow": {
     "slide_type": "skip"
    }
   },
   "source": [
    "- Optimization\n",
    "- Numerical Modeling\n",
    "- Machine Learning\n",
    "\n",
    "\n"
   ]
  },
  {
   "cell_type": "markdown",
   "metadata": {
    "nbpresent": {
     "id": "f32ca0f4-3449-4ef4-b78d-7bf725d9a747"
    },
    "slideshow": {
     "slide_type": "slide"
    }
   },
   "source": [
    "## Learning Human Search Strategies \n",
    "### From a Crowdsourcing Game"
   ]
  },
  {
   "cell_type": "markdown",
   "metadata": {
    "nbpresent": {
     "id": "5364d48e-1427-4a90-a5e0-8b1d4e2e16af"
    },
    "slideshow": {
     "slide_type": "fragment"
    }
   },
   "source": [
    "**Thurston Sexton, Max Yi Ren**\n",
    "\n",
    "*Design Informatics Lab*  \n",
    "*Dept. of Mechanical and Aerospace Engineering*  \n",
    "*Arizona State University*  "
   ]
  },
  {
   "cell_type": "markdown",
   "metadata": {
    "nbpresent": {
     "id": "1caa18a0-5f3c-4182-82ac-b5f88836569f"
    },
    "slideshow": {
     "slide_type": "fragment"
    }
   },
   "source": [
    "Presented at IDETC 2016 (Charlotte, Aug.22)  \n",
    "Submitted to ASME JMD *(under review)*"
   ]
  },
  {
   "cell_type": "markdown",
   "metadata": {
    "nbpresent": {
     "id": "d68ea752-4123-4d5f-a5a5-8bb0bf5041a0"
    },
    "slideshow": {
     "slide_type": "slide"
    }
   },
   "source": [
    "### Overview\n",
    "- **Why *human* search strategy?**\n",
    "- Bayesian Optimization (IBO)\n",
    "- Inverse Bayesian Optimization (IBO)\n",
    "- Case Study: Learning from others vs by one's-self\n",
    "- IBO vs. Inverse Reinforcement Learning"
   ]
  },
  {
   "cell_type": "markdown",
   "metadata": {
    "nbpresent": {
     "id": "ac78fa1c-5ef8-43a3-99d5-b264ca0c2ac0"
    },
    "slideshow": {
     "slide_type": "subslide"
    }
   },
   "source": [
    "### Why *human* search strategy?\n",
    "\n",
    "Human beings can **sometimes outperform** optimization algorithms at searching"
   ]
  },
  {
   "cell_type": "markdown",
   "metadata": {
    "nbpresent": {
     "id": "dee3791f-eec8-4265-b953-8e376bb18452"
    },
    "slideshow": {
     "slide_type": "fragment"
    }
   },
   "source": [
    "- e.g. Figuring out how to play a game well.\n",
    "\n",
    "    - Machine achieved *lower* than human level performance after 38 days of continuous play of ATARI Frostbite (Mnih et al.2015)\n",
    "    - State-of-the-art deep learning achieves 3.5% of human performance on this game after the same amount of game play (2 hours) \n",
    "\n",
    "*Lake et al., “Building Machines That Learn and Think Like\n",
    "People”, arXiv (July 2016)*"
   ]
  },
  {
   "cell_type": "markdown",
   "metadata": {
    "nbpresent": {
     "id": "1cfb6db5-810a-4994-923c-ae67e38fedfe"
    },
    "slideshow": {
     "slide_type": "subslide"
    }
   },
   "source": [
    "<img src=\"./ecoracer.png\", width=\"90%\">\n",
    "ecoracer.herokuapp.com"
   ]
  },
  {
   "cell_type": "markdown",
   "metadata": {
    "slideshow": {
     "slide_type": "subslide"
    }
   },
   "source": [
    "### Why do humans succeed where algorithms fail?\n",
    "- **Knowledge** -  Prior information (or physical intuition)? \n",
    "- **Meta Game** - ability in absraction?\n",
    "- **Learning to Learn** - Self improvement/strategic insight?"
   ]
  },
  {
   "cell_type": "markdown",
   "metadata": {
    "slideshow": {
     "slide_type": "subslide"
    }
   },
   "source": [
    "### What about Crowdsourcing?\n",
    "- **Currently**: wait for *good solutions* to arise by watching many players attempt solutions.\n",
    "    - *a.k.a. smart people spending lots of time on a game*\n",
    "\n",
    "- **What if**: wait for *good search strategies* by observing fast-improving players' decisions. \n",
    "    - *a.k.a. smart people willing to at least try the game* \n",
    "    "
   ]
  },
  {
   "cell_type": "markdown",
   "metadata": {
    "slideshow": {
     "slide_type": "fragment"
    }
   },
   "source": [
    "**$\\rightarrow$ Problem:** If we assume Humans search using an optimization scheme (e.g. Bayesian Optimization) with parameters informed by prior knowledge (their \"strategy\"), can we recover those parameters using their search trajectory? "
   ]
  },
  {
   "cell_type": "markdown",
   "metadata": {
    "nbpresent": {
     "id": "7de3661e-a6be-4859-a6e9-c2f4cc4a8737"
    },
    "slideshow": {
     "slide_type": "slide"
    }
   },
   "source": [
    "### Overview\n",
    "- Why *human* search strategy?\n",
    "- **Bayesian Optimization (BO)**\n",
    "- Inverse Bayesian Optimization (IBO)\n",
    "- EcoRacer - Crowdsourced Strategy"
   ]
  },
  {
   "cell_type": "markdown",
   "metadata": {
    "slideshow": {
     "slide_type": "subslide"
    }
   },
   "source": [
    "### What is Bayesian Optimization?\n",
    "Efficient Global Optimization (EGO) is excellent at optimizing expensive functions with minimal calls. \n",
    "1. sample the solution space\n",
    "2. estimate/update a Gaussian Process (kriging) model\n",
    "3. find new sample by maximizing a utility/aquizition function\n",
    "4. repeat 2,3"
   ]
  },
  {
   "cell_type": "markdown",
   "metadata": {
    "nbpresent": {
     "id": "27c4dabe-272e-4029-8fe8-a325dcf99849"
    },
    "slideshow": {
     "slide_type": "subslide"
    }
   },
   "source": [
    "### What is BO? Simple 1-D Example\n",
    "$$ \\max_x f(x)\\quad \\text{where} \\quad f(x) = e^{-(x-2)^2} + \\frac{1}{10}e^{-(x-6)^2} + \\frac{1}{x^2+1}$$"
   ]
  },
  {
   "cell_type": "markdown",
   "metadata": {
    "slideshow": {
     "slide_type": "fragment"
    }
   },
   "source": [
    "For the set of available samples ${\\bf X}_k$ and associated objective values ${\\bf f}_k$, $$h_k :=<{\\bf X}_k, {\\bf f}_k>$$\n",
    "\n",
    "Then given a utility function $Q_{EI}$, \n",
    "$$ x_{k+1} = \\text{argmax}_{x\\in \\mathcal{X}}Q_{EI}(x;h_k, \\lambda)$$"
   ]
  },
  {
   "cell_type": "code",
   "execution_count": 6,
   "metadata": {
    "collapsed": false,
    "slideshow": {
     "slide_type": "subslide"
    }
   },
   "outputs": [
    {
     "data": {
      "image/png": "[encoded data removed]",
      "text/plain": [
       "<matplotlib.figure.Figure at 0x7fd7f1315090>"
      ]
     },
     "metadata": {},
     "output_type": "display_data"
    }
   ],
   "source": [
    "slider = IntSlider(min=0, max=n_samp-1, step=1)\n",
    "interact(plot_specific, n=slider)\n",
    "slider.layout.width = '70%'"
   ]
  },
  {
   "cell_type": "markdown",
   "metadata": {
    "collapsed": true,
    "slideshow": {
     "slide_type": "subslide"
    }
   },
   "source": [
    "### What is BO? Pros/Cons\n",
    "\n",
    "Search is governed by GP parameters ($\\lambda$) and the probabilistic nature of optimizing EI (strict vs non  $\\rightarrow \\alpha$). \n",
    "\n",
    "- fewer objective function calls\n",
    "- creates *\"surrogate model\"* with cheap evaluation\n",
    "- estimate of certainty is included\n",
    "- matches actual human search in 1-D (*Borji & Itti 2013*)"
   ]
  },
  {
   "cell_type": "markdown",
   "metadata": {
    "slideshow": {
     "slide_type": "fragment"
    }
   },
   "source": [
    "but...\n",
    "- needs good GP parameters for efficiency\n",
    "- curse of dimensionality\n",
    "\n",
    "*we'll be coming back to these*"
   ]
  },
  {
   "cell_type": "markdown",
   "metadata": {
    "slideshow": {
     "slide_type": "slide"
    }
   },
   "source": [
    "### Overview\n",
    "- Why *human* search strategy?\n",
    "- Bayesian Optimization (BO)\n",
    "- **Inverse Bayesian Optimization (IBO)**\n",
    "- EcoRacer - Crowdsourced Strategy"
   ]
  },
  {
   "cell_type": "markdown",
   "metadata": {
    "slideshow": {
     "slide_type": "subslide"
    }
   },
   "source": [
    "We want to recover $\\lambda$ (and $\\alpha$) from an observed trajectory ${\\bf h}$\n",
    "\n",
    "Assume $\\lambda, \\alpha$ is static. The Log-likelihood of a GP parameter can be defined as:\n",
    "\n",
    "$$L(\\lambda, \\alpha) = \\sum l(\\alpha, \\lambda, {\\bf X},{\\bf f})$$\n",
    "\n",
    "where $l$ is the log-probability of every new sample *given* all previous samples/responses.\n",
    "**Every calculation of $l$ needs *integration* over $x$**"
   ]
  },
  {
   "cell_type": "markdown",
   "metadata": {
    "slideshow": {
     "slide_type": "subslide"
    }
   },
   "source": [
    "### IBO: Does it work? \n",
    "\n",
    "**Rosenbrock 30-D** with four settings...how many samples do we need? \n",
    "\n",
    "<img src=\"./ibo.png\", width=\"90%\">\n",
    "\n",
    "IBO quickly recognizes the true BO settings **unless** BO is behaving ~ random sampling (high $\\lambda$)"
   ]
  },
  {
   "cell_type": "markdown",
   "metadata": {
    "slideshow": {
     "slide_type": "subslide"
    }
   },
   "source": [
    "### IBO: Is it efficient? \n",
    "\n",
    "Generally solvers find a $\\lambda$ at each iteration (adaptive) without prior knowledge (Maximum Likelihood Estimate)\n",
    "\n",
    "\n",
    "<img src=\"./self-adapt-vs.png\", width=\"60%\">\n",
    "\n",
    "\n"
   ]
  },
  {
   "cell_type": "markdown",
   "metadata": {
    "slideshow": {
     "slide_type": "subslide"
    }
   },
   "source": [
    "### IBO: Is it efficient? \n",
    "Adaptive (MLE) parameters do not quickly converge to an optimal setting. \n",
    "\n",
    "<img src=\"./fracs.png\", width=\"70%\">\n",
    "*over 30 trials*"
   ]
  },
  {
   "cell_type": "markdown",
   "metadata": {
    "slideshow": {
     "slide_type": "slide"
    }
   },
   "source": [
    "### Overview\n",
    "- Why *human* search strategy?\n",
    "- Bayesian Optimiztion\n",
    "- Inverse Bayesian Optimization (IBO)\n",
    "- **EcoRacer - Crowdsourced Strategy**"
   ]
  },
  {
   "cell_type": "markdown",
   "metadata": {
    "slideshow": {
     "slide_type": "subslide"
    }
   },
   "source": [
    "<img src=\"./ecoracer_new.png\", width=\"100%\">"
   ]
  },
  {
   "cell_type": "markdown",
   "metadata": {
    "slideshow": {
     "slide_type": "subslide"
    }
   },
   "source": [
    "### EcoRacer\n",
    "#### Part design (gear ratio), part control (trinary signal)\n",
    "\n",
    "Treated as a design optimization problem means **very high** dimensionality. \n",
    "- 18160 \"ticks\" where a descision can be made, spread over 36s\n",
    "- Nearly impossible to do BO without dimension reduction. \n",
    "- Previously: inputs like hill gradient, time since beginning, velocity, etc.\n",
    "\n",
    "How do Humans \"reduce the dimensionality\" of a problem? *Salient features*, with minimal multi-tasking. \n",
    "\n",
    "$\\rightarrow$**Independant Component Analysis (ICA)**"
   ]
  },
  {
   "cell_type": "markdown",
   "metadata": {
    "slideshow": {
     "slide_type": "subslide"
    }
   },
   "source": [
    "<img src=\"./comp_sorted.png\", align=\"right\", width=\"40%\">\n",
    "Unlike PCA (maximize variance in orthogonal bases), ICA performs the task of *blind source separation*. \n",
    "\n",
    "For ICA finds an assumed number of *source signals* such that they combine to produce the observed signals having **minimum shared information** (K-L divergence). \n",
    "\n",
    "Note the bases roughly correspond to track locations when sorted. \n",
    "\n",
    "(30-D projection)"
   ]
  },
  {
   "cell_type": "markdown",
   "metadata": {
    "slideshow": {
     "slide_type": "subslide"
    }
   },
   "source": [
    "#### Example signal recovery\n",
    "Nearly all of the original information can be recovered using only 30 inputs and thresholding. \n",
    "<img src=\"./ica-recover.png\", width=\"60%\">\n",
    "So does it work?"
   ]
  },
  {
   "cell_type": "markdown",
   "metadata": {
    "slideshow": {
     "slide_type": "subslide"
    }
   },
   "source": [
    "#### How does BO do if it learns a \"good player's\" strategy with IBO?\n",
    "\n",
    "1. Model Problem Space (ICA)  \n",
    "2. Find $\\hat{\\lambda}$ using IBO  \n",
    "3. Compare new BO to standard BO and players"
   ]
  },
  {
   "cell_type": "markdown",
   "metadata": {
    "slideshow": {
     "slide_type": "fragment"
    }
   },
   "source": [
    "<img src=\"./result_res_new.png\", width=\"100%\">"
   ]
  },
  {
   "cell_type": "markdown",
   "metadata": {
    "slideshow": {
     "slide_type": "slide"
    }
   },
   "source": [
    "## Summary and Future"
   ]
  },
  {
   "cell_type": "markdown",
   "metadata": {
    "slideshow": {
     "slide_type": "subslide"
    }
   },
   "source": [
    "### Comparison with IRL: \n",
    "IBO shares some motivation and approach with Inverse Reinforcement Learning (ML). \n",
    "* **Ask: Why do people solve it this way?** - learn optimal control strategy"
   ]
  },
  {
   "cell_type": "markdown",
   "metadata": {
    "slideshow": {
     "slide_type": "fragment"
    }
   },
   "source": [
    "However, because IBO needs all previous state/action pairs to sample, it is *non-Markovian*. \n",
    "* **Ask: How did people figure out this solution? ** - learn optimal optimization parameters"
   ]
  },
  {
   "cell_type": "markdown",
   "metadata": {
    "slideshow": {
     "slide_type": "subslide"
    }
   },
   "source": [
    "How is this different? Experts are not needed! More efficient utilization of players' time once gamification/mechanism design has been implemented. \n",
    "\n",
    "**Potentially, IBO could speed up future solution search based on experience learned from others. **"
   ]
  },
  {
   "cell_type": "markdown",
   "metadata": {
    "slideshow": {
     "slide_type": "subslide"
    }
   },
   "source": [
    "### Special Thanks to: \n",
    "- ODE Lab at Univ. of Michigan\n",
    "- NSF CMMI-1266184\n",
    "- All EcoRacer Players!"
   ]
  },
  {
   "cell_type": "markdown",
   "metadata": {
    "slideshow": {
     "slide_type": "subslide"
    }
   },
   "source": [
    "### Questions?"
   ]
  },
  {
   "cell_type": "markdown",
   "metadata": {
    "slideshow": {
     "slide_type": "skip"
    }
   },
   "source": [
    "## Numerical Modeling & Simulation\n",
    "### Solving PDE's"
   ]
  },
  {
   "cell_type": "markdown",
   "metadata": {
    "slideshow": {
     "slide_type": "skip"
    }
   },
   "source": [
    "Ferromagnetic Phase Separation\n",
    "\n",
    "MAE 598 (Spring 2016, Dr Yang Jiao)"
   ]
  },
  {
   "cell_type": "markdown",
   "metadata": {
    "slideshow": {
     "slide_type": "skip"
    }
   },
   "source": [
    "CFD spinny thingies\n",
    "\n",
    "MAE 561 (Fall 2015, Dr. Marcus Hermann)"
   ]
  }
 ],
 "metadata": {
  "anaconda-cloud": {},
  "celltoolbar": "Slideshow",
  "kernelspec": {
   "display_name": "Python 2",
   "language": "python",
   "name": "python2"
  },
  "language_info": {
   "codemirror_mode": {
    "name": "ipython",
    "version": 2
   },
   "file_extension": ".py",
   "mimetype": "text/x-python",
   "name": "python",
   "nbconvert_exporter": "python",
   "pygments_lexer": "ipython2",
   "version": "2.7.12"
  },
  "nbpresent": {
   "slides": {
    "13e28e0b-48ad-4c50-bf2c-3f632c34e934": {
     "id": "13e28e0b-48ad-4c50-bf2c-3f632c34e934",
     "prev": "28a6f6ff-00b0-4eaa-8465-16121d4ac8fd",
     "regions": {
      "d2af5f30-bb89-4bb7-9368-897254a70c71": {
       "attrs": {
        "height": 0.8,
        "width": 0.8,
        "x": 0.1,
        "y": 0.1
       },
       "content": {
        "cell": "1cfb6db5-810a-4994-923c-ae67e38fedfe",
        "part": "whole"
       },
       "id": "d2af5f30-bb89-4bb7-9368-897254a70c71"
      }
     }
    },
    "21a5047e-be48-4c38-9499-78ff8bbdf12e": {
     "id": "21a5047e-be48-4c38-9499-78ff8bbdf12e",
     "prev": "13e28e0b-48ad-4c50-bf2c-3f632c34e934",
     "regions": {
      "182f9abb-5665-472a-aff7-5c25f0f88663": {
       "attrs": {
        "height": 0.8,
        "width": 0.8,
        "x": 0.1,
        "y": 0.1
       },
       "content": {
        "cell": "7de3661e-a6be-4859-a6e9-c2f4cc4a8737",
        "part": "whole"
       },
       "id": "182f9abb-5665-472a-aff7-5c25f0f88663"
      }
     }
    },
    "28a6f6ff-00b0-4eaa-8465-16121d4ac8fd": {
     "id": "28a6f6ff-00b0-4eaa-8465-16121d4ac8fd",
     "prev": "71ec8966-2bbb-4c49-8720-3dbc4461b2c8",
     "regions": {
      "a922b11c-5dab-4503-a98f-9472a736ffd4": {
       "attrs": {
        "height": 0.8,
        "width": 0.8,
        "x": 0.1,
        "y": 0.1
       },
       "content": {
        "cell": "ac78fa1c-5ef8-43a3-99d5-b264ca0c2ac0",
        "part": "whole"
       },
       "id": "a922b11c-5dab-4503-a98f-9472a736ffd4"
      },
      "da7f5543-9012-4031-956b-57ea20761faa": {
       "attrs": {
        "height": 0.4,
        "width": 0.8,
        "x": 0.1,
        "y": 0.5
       },
       "content": {
        "cell": "dee3791f-eec8-4265-b953-8e376bb18452",
        "part": "whole"
       },
       "id": "da7f5543-9012-4031-956b-57ea20761faa"
      }
     }
    },
    "308d444a-217a-41b9-acb9-6b03b2fba2f1": {
     "id": "308d444a-217a-41b9-acb9-6b03b2fba2f1",
     "prev": "b4d00fb4-af75-4b20-ab6f-293ef0973e06",
     "regions": {
      "a707a7ae-8243-44df-b2e9-4c32e187ffaf": {
       "attrs": {
        "height": 0.8,
        "width": 0.8,
        "x": 0.1,
        "y": 0.1
       },
       "content": {
        "cell": "79c5cec2-d199-43f2-a7a2-e3af95cf6e57",
        "part": "whole"
       },
       "id": "a707a7ae-8243-44df-b2e9-4c32e187ffaf"
      }
     }
    },
    "43941dd6-8959-41ef-b616-f1e4cf91bd18": {
     "id": "43941dd6-8959-41ef-b616-f1e4cf91bd18",
     "prev": "308d444a-217a-41b9-acb9-6b03b2fba2f1",
     "regions": {
      "e4799e50-0fa2-43a9-93cf-527c4987ab8b": {
       "attrs": {
        "height": 0.8,
        "width": 0.8,
        "x": 0.1,
        "y": 0.1
       },
       "content": {
        "cell": "abce1d42-f632-4d15-8f3c-babbe00e5fc5",
        "part": "whole"
       },
       "id": "e4799e50-0fa2-43a9-93cf-527c4987ab8b"
      }
     }
    },
    "708c685f-c48d-40d4-a1a2-1902653bd639": {
     "id": "708c685f-c48d-40d4-a1a2-1902653bd639",
     "prev": "21a5047e-be48-4c38-9499-78ff8bbdf12e",
     "regions": {
      "df1c9188-3ab3-4d85-9739-046400ac86e6": {
       "attrs": {
        "height": 0.8,
        "width": 0.8,
        "x": 0.1,
        "y": 0.1
       },
       "content": {
        "cell": "27c4dabe-272e-4029-8fe8-a325dcf99849",
        "part": "whole"
       },
       "id": "df1c9188-3ab3-4d85-9739-046400ac86e6"
      },
      "ea00e331-c1fe-4880-89f6-8c9c32a16c54": {
       "attrs": {
        "height": 0.4,
        "width": 0.8,
        "x": 0.1,
        "y": 0.5
       },
       "content": {
        "cell": "9e2ebe13-af1a-47fb-a1a1-8c53c4950cf5",
        "part": "whole"
       },
       "id": "ea00e331-c1fe-4880-89f6-8c9c32a16c54"
      }
     }
    },
    "71ec8966-2bbb-4c49-8720-3dbc4461b2c8": {
     "id": "71ec8966-2bbb-4c49-8720-3dbc4461b2c8",
     "layout": "grid",
     "prev": "e08ac41a-f429-4f4c-96da-997806761d36",
     "regions": {
      "872b06a1-5d84-4a85-a581-e27d8fd48a38": {
       "attrs": {
        "height": 0.6666666666666666,
        "pad": 0.01,
        "treemap:weight": 1,
        "width": 0.5,
        "x": 0.5,
        "y": 0
       },
       "id": "872b06a1-5d84-4a85-a581-e27d8fd48a38"
      },
      "df01e51a-790f-4404-919f-46b6ba165382": {
       "attrs": {
        "height": 0.6666666666666666,
        "pad": 0.01,
        "treemap:weight": 1,
        "width": 0.5,
        "x": 0,
        "y": 0
       },
       "id": "df01e51a-790f-4404-919f-46b6ba165382"
      },
      "e5440089-4fc0-45af-8b92-9dc9fd62542c": {
       "attrs": {
        "height": 0.3333333333333333,
        "pad": 0.01,
        "treemap:weight": 1,
        "width": 1,
        "x": 0,
        "y": 0.6666666666666666
       },
       "content": {
        "cell": "d68ea752-4123-4d5f-a5a5-8bb0bf5041a0",
        "part": "whole"
       },
       "id": "e5440089-4fc0-45af-8b92-9dc9fd62542c"
      }
     }
    },
    "b4d00fb4-af75-4b20-ab6f-293ef0973e06": {
     "id": "b4d00fb4-af75-4b20-ab6f-293ef0973e06",
     "prev": null,
     "regions": {}
    },
    "bf044d71-de29-4ada-bf0b-b815a5e2350b": {
     "id": "bf044d71-de29-4ada-bf0b-b815a5e2350b",
     "prev": "edc6eff7-f560-4506-806c-9c9f808ac763",
     "regions": {
      "25372f1a-9730-497b-851a-d8e3fbc64f74": {
       "attrs": {
        "height": 0.8,
        "width": 0.8,
        "x": 0.1,
        "y": 0.1
       },
       "content": {
        "cell": "cc5d7743-9322-444c-baa6-4037010e93ca",
        "part": "whole"
       },
       "id": "25372f1a-9730-497b-851a-d8e3fbc64f74"
      }
     }
    },
    "bf4da5c4-9ee2-4774-9fa7-bbf1159574ef": {
     "id": "bf4da5c4-9ee2-4774-9fa7-bbf1159574ef",
     "prev": "708c685f-c48d-40d4-a1a2-1902653bd639",
     "regions": {
      "1613fef9-9971-4d6e-98d8-e228c28798ee": {
       "attrs": {
        "height": 0.8,
        "width": 0.8,
        "x": 0.1,
        "y": 0.1
       },
       "content": {
        "cell": "48230638-0cc7-4ad0-bd68-71c752ac92c1",
        "part": "whole"
       },
       "id": "1613fef9-9971-4d6e-98d8-e228c28798ee"
      }
     }
    },
    "e08ac41a-f429-4f4c-96da-997806761d36": {
     "id": "e08ac41a-f429-4f4c-96da-997806761d36",
     "prev": "43941dd6-8959-41ef-b616-f1e4cf91bd18",
     "regions": {
      "25618bf6-609f-4b46-b8b5-990ac9ab7544": {
       "attrs": {
        "height": 0.4,
        "width": 0.8,
        "x": 0.1,
        "y": 0.5
       },
       "content": {
        "cell": "5364d48e-1427-4a90-a5e0-8b1d4e2e16af",
        "part": "whole"
       },
       "id": "25618bf6-609f-4b46-b8b5-990ac9ab7544"
      },
      "b54fa07f-a8ee-49ad-8ba8-fbace0aba731": {
       "attrs": {
        "height": 0.8,
        "width": 0.8,
        "x": 0.1,
        "y": 0.1
       },
       "content": {
        "cell": "f32ca0f4-3449-4ef4-b78d-7bf725d9a747",
        "part": "whole"
       },
       "id": "b54fa07f-a8ee-49ad-8ba8-fbace0aba731"
      },
      "b7e1f46c-d533-43ae-91e3-3f93d6e62fbe": {
       "attrs": {
        "height": 0.4,
        "width": 0.8,
        "x": 0.1,
        "y": 0.5
       },
       "content": {
        "cell": "1caa18a0-5f3c-4182-82ac-b5f88836569f",
        "part": "whole"
       },
       "id": "b7e1f46c-d533-43ae-91e3-3f93d6e62fbe"
      }
     }
    },
    "edc6eff7-f560-4506-806c-9c9f808ac763": {
     "id": "edc6eff7-f560-4506-806c-9c9f808ac763",
     "prev": "bf4da5c4-9ee2-4774-9fa7-bbf1159574ef",
     "regions": {
      "5d56c155-84e5-429e-81e3-ad8f0d06fdb6": {
       "attrs": {
        "height": 0.8,
        "width": 0.8,
        "x": 0.1,
        "y": 0.1
       },
       "content": {
        "cell": "9aee5567-332e-4d10-b5c9-52164718a809",
        "part": "whole"
       },
       "id": "5d56c155-84e5-429e-81e3-ad8f0d06fdb6"
      }
     }
    }
   },
   "themes": {
    "default": "89f393ec-e2cd-48fb-b08c-c2a500fd8881",
    "theme": {}
   }
  },
  "widgets": {
   "state": {
    "bb807869087241408567246c41c6a9e2": {
     "views": [
      {
       "cell_index": 19
      }
     ]
    }
   },
   "version": "1.2.0"
  }
 },
 "nbformat": 4,
 "nbformat_minor": 1
}
